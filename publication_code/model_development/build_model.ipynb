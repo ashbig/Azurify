{
 "cells": [
  {
   "cell_type": "code",
   "execution_count": 2,
   "metadata": {},
   "outputs": [],
   "source": [
    "import pandas as pd\n",
    "import numpy as np\n",
    "from sklearn.model_selection import train_test_split\n",
    "from catboost import *\n",
    "import matplotlib.pyplot as plt\n",
    "\n"
   ]
  },
  {
   "cell_type": "code",
   "execution_count": 19,
   "metadata": {},
   "outputs": [],
   "source": [
    "# grab a pre-split curated dataset that is 50% of original data\n",
    "y = pd.read_csv('train50.csv', sep=',',low_memory=False)\n",
    "x = y[['PCHANGE', 'GENE', 'Domain', 'ClinicalSignificance','EFFECT', 'Civic_Evidence', 'CATEGORIZATION', 'FAF', 'GNOMAD_AC', 'GNOMAD_AF', 'EXON_Rank', 'COSMIC_CNT','MVP_score', 'Civic_Drug', 'PMID_COUNT', 'KEGG']]\n",
    "train_df = x.copy()"
   ]
  },
  {
   "cell_type": "code",
   "execution_count": 23,
   "metadata": {},
   "outputs": [],
   "source": [
    "train_df.fillna(-999, inplace=True)"
   ]
  },
  {
   "cell_type": "code",
   "execution_count": 24,
   "metadata": {},
   "outputs": [],
   "source": [
    "X = train_df.drop('CATEGORIZATION', axis=1)\n",
    "y = train_df.CATEGORIZATION"
   ]
  },
  {
   "cell_type": "code",
   "execution_count": null,
   "metadata": {},
   "outputs": [],
   "source": [
    "from sklearn.model_selection import train_test_split\n",
    "X_train, X_validation, y_train, y_validation = train_test_split(X, y, train_size=0.5, random_state=1234)\n",
    "print('length of Xtrain and Xtest: ', len(X_train), len(X_validation))\n",
    "print('length of ytrain and ytest: ', len(y_train), len(y_validation))"
   ]
  },
  {
   "cell_type": "code",
   "execution_count": 26,
   "metadata": {},
   "outputs": [],
   "source": [
    "categorical_names = ['PCHANGE','GENE','Domain','ClinicalSignificance','EFFECT', 'Civic_Evidence']\n",
    "cat_features = [train_df.columns.get_loc(i) for i in categorical_names]"
   ]
  },
  {
   "cell_type": "code",
   "execution_count": null,
   "metadata": {},
   "outputs": [],
   "source": [
    "# run 5fold cross to find optimal itterations\n",
    "roc_file='roc500_5fold.csv'\n",
    "params = {}\n",
    "params['loss_function'] = 'MultiClass'\n",
    "params['iterations'] = 500\n",
    "params['custom_loss'] = 'AUC'\n",
    "params['random_seed'] = 63\n",
    "params['roc_file']= roc_file\n",
    "\n",
    "cv_data = cv(\n",
    "    params = params,\n",
    "    pool = Pool(X, label=y, cat_features=cat_features),\n",
    "    fold_count=5,\n",
    "    shuffle=True,\n",
    "    partition_random_seed=0,\n",
    "    plot=True,\n",
    "    stratified=True,\n",
    "    verbose=1\n",
    ")"
   ]
  },
  {
   "cell_type": "code",
   "execution_count": null,
   "metadata": {},
   "outputs": [],
   "source": [
    "ms = pd.read_csv('roc500_5fold.csv', sep='\\t',low_memory=False)\n"
   ]
  },
  {
   "cell_type": "code",
   "execution_count": 5,
   "metadata": {},
   "outputs": [
    {
     "data": {
      "image/png": "[encoded data removed]",
      "text/plain": [
       "<Figure size 432x288 with 1 Axes>"
      ]
     },
     "metadata": {},
     "output_type": "display_data"
    }
   ],
   "source": [
    "plt.style.use('seaborn-white')\n",
    "# plot training accuracy\n",
    "x = [198, 198]\n",
    "y = [0.86,1.00]\n",
    "plt.rcParams['font.size'] = 11\n",
    "\n",
    "plt.plot(ms['Iterations'], ms['Fold1'],color='#E87722', label='Fold 1')\n",
    "plt.plot(ms['Iterations'], ms['Fold2'],color='#ffc915', label='Fold 2')\n",
    "plt.plot(ms['Iterations'], ms['Fold3'],color='#990000', label='Fold 3')\n",
    "plt.plot(ms['Iterations'], ms['Fold4'],color='#004C54', label='Fold 4')\n",
    "plt.plot(ms['Iterations'], ms['Fold5'],color='#A5ACAF', label='Fold 5')\n",
    "#plt.plot(ms['Iterations'], ms['Final'],color='#011F5b', label='Azurify')\n",
    "plt.plot(x, y, linestyle='--', color='#011F5b')\n",
    "# title\n",
    "#plt.title('Previously Unobserved Disease Precision-Recall curve')\n",
    "# x label\n",
    "plt.xlabel('Iterations')\n",
    "# y label\n",
    "plt.ylabel('Acuracy')\n",
    "plt.rcParams[\"figure.figsize\"] = (7.75,6)\n",
    "plt.legend(loc='best')\n",
    "plt.savefig('Model_Accuracy_Itterations',dpi=600)\n",
    "plt.show();"
   ]
  },
  {
   "cell_type": "code",
   "execution_count": null,
   "metadata": {},
   "outputs": [],
   "source": [
    "#run at proper itterations\n",
    "model_with_early_stop = CatBoostClassifier(\n",
    "    eval_metric='AUC',\n",
    "    iterations=200,\n",
    "    random_seed=43,\n",
    "    learning_rate=0.3,\n",
    "    early_stopping_rounds=20\n",
    ")\n",
    "model_with_early_stop.fit(\n",
    "    X_train, y_train,\n",
    "    cat_features=cat_features,\n",
    "    eval_set=(X_validation, y_validation),\n",
    "    verbose=True,\n",
    "    plot=True\n",
    ")\n"
   ]
  },
  {
   "cell_type": "code",
   "execution_count": 13,
   "metadata": {},
   "outputs": [],
   "source": [
    "model_with_early_stop.save_model('azurify.json', format='json')"
   ]
  },
  {
   "cell_type": "code",
   "execution_count": null,
   "metadata": {},
   "outputs": [],
   "source": [
    "df = model_with_early_stop.get_feature_importance(prettified=True)"
   ]
  }
 ],
 "metadata": {
  "kernelspec": {
   "display_name": "Python 3 (ipykernel)",
   "language": "python",
   "name": "python3"
  },
  "language_info": {
   "codemirror_mode": {
    "name": "ipython",
    "version": 3
   },
   "file_extension": ".py",
   "mimetype": "text/x-python",
   "name": "python",
   "nbconvert_exporter": "python",
   "pygments_lexer": "ipython3",
   "version": "3.8.19"
  }
 },
 "nbformat": 4,
 "nbformat_minor": 4
}
