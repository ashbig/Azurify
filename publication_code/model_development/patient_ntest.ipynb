{
 "cells": [
  {
   "cell_type": "code",
   "execution_count": 1,
   "metadata": {},
   "outputs": [],
   "source": [
    "from catboost import CatBoostClassifier\n",
    "import pandas as pd\n",
    "import numpy as np"
   ]
  },
  {
   "cell_type": "code",
   "execution_count": 2,
   "metadata": {},
   "outputs": [
    {
     "data": {
      "text/plain": [
       "<catboost.core.CatBoostClassifier at 0x28efe98d648>"
      ]
     },
     "execution_count": 2,
     "metadata": {},
     "output_type": "execute_result"
    }
   ],
   "source": [
    "model500 = CatBoostClassifier()\n",
    "model500.load_model('500_pchanges.json', format='json')\n",
    "model1000 = CatBoostClassifier()\n",
    "model1000.load_model('1000_pchanges.json', format='json')\n",
    "model5000 = CatBoostClassifier()\n",
    "model5000.load_model('5000_pchanges.json', format='json')\n",
    "model10000 = CatBoostClassifier()\n",
    "model10000.load_model('10000_pchanges.json', format='json')\n",
    "model50000 = CatBoostClassifier()\n",
    "model50000.load_model('50000_pchanges.json', format='json')\n",
    "model100000 = CatBoostClassifier()\n",
    "model100000.load_model('100000_pchanges.json', format='json')\n",
    "model150000 = CatBoostClassifier()\n",
    "model150000.load_model('150000_pchanges.json', format='json')\n",
    "model200000 = CatBoostClassifier()\n",
    "model200000.load_model('200000_pchanges.json', format='json')\n",
    "model250000 = CatBoostClassifier()\n",
    "model250000.load_model('250000_pchanges.json', format='json')\n",
    "model300000 = CatBoostClassifier()\n",
    "model300000.load_model('00000_pchanges.json', format='json')\n",
    "model350000 = CatBoostClassifier()\n",
    "model350000.load_model('350000_pchanges.json', format='json')\n",
    "model400000 = CatBoostClassifier()\n",
    "model400000.load_model('400000_pchanges.json', format='json')\n",
    "modelf = CatBoostClassifier()\n",
    "modelf.load_model('azurify.json', format='json')"
   ]
  },
  {
   "cell_type": "code",
   "execution_count": null,
   "metadata": {},
   "outputs": [],
   "source": [
    "wdf = pd.read_csv('test50.csv', sep=',',low_memory=False)\n",
    "x = wdf[['PCHANGE', 'GENE', 'Domain', 'ClinicalSignificance','EFFECT', 'Civic_Evidence', 'CATEGORIZATION', 'FAF', 'GNOMAD_AC', 'GNOMAD_AF', 'EXON_Rank', 'COSMIC_CNT','MVP_score', 'Civic_Drug', 'PMID_COUNT', 'KEGG']]"
   ]
  },
  {
   "cell_type": "code",
   "execution_count": 7,
   "metadata": {},
   "outputs": [],
   "source": [
    "s = x.drop('CATEGORIZATION', axis=1)\n",
    "s['ClinicalSignificance'] = s['ClinicalSignificance'].replace(np.nan, 'Unknown', regex=True)\n",
    "s['Civic_Evidence'] = s['Civic_Evidence'].replace(np.nan, 'Uknnown', regex=True)\n",
    "s['Domain'] = s['Domain'].replace(np.nan, 'Uknnown', regex=True)\n",
    "s.fillna(-999, inplace=True)"
   ]
  },
  {
   "cell_type": "code",
   "execution_count": 8,
   "metadata": {},
   "outputs": [],
   "source": [
    "# predict results from all models\n",
    "a =  model500.predict(data=s)\n",
    "b =  model1000.predict(data=s)\n",
    "c =  model5000.predict(data=s)\n",
    "d =  model10000.predict(data=s)\n",
    "e =  model50000.predict(data=s)\n",
    "f =  model100000.predict(data=s)\n",
    "g =  model150000.predict(data=s)\n",
    "h =  model200000.predict(data=s)\n",
    "i =  model250000.predict(data=s)\n",
    "j =  model300000.predict(data=s)\n",
    "k =  model350000.predict(data=s)\n",
    "l =  model400000.predict(data=s)\n",
    "m =  modelf.predict(data=s)\n"
   ]
  },
  {
   "cell_type": "code",
   "execution_count": null,
   "metadata": {},
   "outputs": [],
   "source": [
    "dft = x[['CATEGORIZATION']]\n",
    "dft['500'] = a\n",
    "dft['1000'] = b\n",
    "dft['5000'] = c\n",
    "dft['10000'] = d\n",
    "dft['50000'] = e\n",
    "dft['100000'] = f\n",
    "dft['150000'] = g\n",
    "dft['200000'] = h\n",
    "dft['250000'] = i\n",
    "dft['300000'] = j\n",
    "dft['350000'] = k\n",
    "dft['400000'] = l\n",
    "dft['448319'] = m\n",
    "dft.head(20)"
   ]
  },
  {
   "cell_type": "code",
   "execution_count": 11,
   "metadata": {},
   "outputs": [],
   "source": [
    "cats = ['Pathogenic', 'Benign', 'Likely Benign', 'Likely Pathogenic', 'VUS']\n",
    "values = ['500', '1000', '5000', '10000', '50000', '100000', '150000', '200000', '250000', '300000', '350000', '400000', '448319']"
   ]
  },
  {
   "cell_type": "code",
   "execution_count": null,
   "metadata": {},
   "outputs": [],
   "source": [
    "from sklearn.metrics import accuracy_score\n",
    "dr = pd.DataFrame(columns = ['Variations', 'Class', 'Accuracy'])\n",
    "for i in cats:\n",
    "    dfx = dft[dft.CATEGORIZATION == i]\n",
    "    for j in values:\n",
    "        print(i, j)\n",
    "        a = accuracy_score(dfx['CATEGORIZATION'], dfx[j])\n",
    "        dr = dr.append({'Variations' : j, 'Class' : i, 'Accuracy' : a}, \n",
    "                ignore_index = True)\n",
    "        \n"
   ]
  },
  {
   "cell_type": "code",
   "execution_count": null,
   "metadata": {},
   "outputs": [],
   "source": [
    "dr[\"Variations\"] = pd.to_numeric(dr[\"Variations\"])"
   ]
  },
  {
   "cell_type": "code",
   "execution_count": 18,
   "metadata": {},
   "outputs": [],
   "source": [
    "DA = dr.loc[dr['Class'] == 'Pathogenic', 'Accuracy']\n",
    "B = dr.loc[dr['Class'] == 'Benign', 'Accuracy']\n",
    "LB = dr.loc[dr['Class'] == 'Likely Benign', 'Accuracy']\n",
    "PDA = dr.loc[dr['Class'] == 'Likely Pathogenic', 'Accuracy']\n",
    "V = dr.loc[dr['Class'] == 'VUS', 'Accuracy']\n"
   ]
  },
  {
   "cell_type": "code",
   "execution_count": null,
   "metadata": {},
   "outputs": [],
   "source": [
    "import numpy as np\n",
    "import pandas as pd\n",
    "from pandas import Series, DataFrame\n",
    "import matplotlib.pyplot as plt\n",
    "plt.style.use('seaborn-white')\n",
    "plt.rcParams['font.size'] = 16\n",
    "plt.rcParams[\"font.family\"] = \"Arial\"\n",
    "w = 0.2\n",
    "plt.bar(np.arange(len(DA)), DA, color='#990000', width=w, label='Pathogenic')\n",
    "plt.bar(np.arange(len(PDA)) + 0.4, PDA, color='#FFCD00', width=w, label='Likely Pathogenic')\n",
    "plt.bar(np.arange(len(V)) - w, V, color='#8A8D8F', width=w, label='VUS')\n",
    "plt.bar(np.arange(len(LB)) - 0.4, LB, color='#68abe8', width=w, label='Likely Benign')\n",
    "plt.bar(np.arange(len(B)) + w, B, color='#002f6c', width=w, label='Benign')\n",
    "\n",
    "#004C54\n",
    "#002f6c\n",
    "plt.xticks(np.arange(len(V)), values, rotation=90)\n",
    "plt.legend(bbox_to_anchor=(1,1))\n",
    "plt.rcParams[\"figure.figsize\"] = (10,6)\n",
    "plt.xlabel(\"\\nTotal Variations\")\n",
    "plt.ylabel(\"Accuracy\\n\")\n",
    "#plt.legend(loc='right')\n",
    "#plt.legend(loc='upper center', bbox_to_anchor=(0.5, 1.05),\n",
    "         # ncol=5, fancybox=True, shadow=True)\n",
    "plt.savefig('paper_figures/AccuracyN',dpi=600, bbox_inches='tight')\n",
    "plt.show();"
   ]
  }
 ],
 "metadata": {
  "kernelspec": {
   "display_name": "Python 3 (ipykernel)",
   "language": "python",
   "name": "python3"
  },
  "language_info": {
   "codemirror_mode": {
    "name": "ipython",
    "version": 3
   },
   "file_extension": ".py",
   "mimetype": "text/x-python",
   "name": "python",
   "nbconvert_exporter": "python",
   "pygments_lexer": "ipython3",
   "version": "3.7.13"
  }
 },
 "nbformat": 4,
 "nbformat_minor": 4
}
