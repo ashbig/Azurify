{
 "cells": [
  {
   "cell_type": "code",
   "execution_count": 1,
   "metadata": {},
   "outputs": [],
   "source": [
    "from catboost import CatBoostClassifier\n",
    "import pandas as pd\n",
    "import numpy as np\n",
    "from sklearn.metrics import roc_curve,auc\n",
    "from sklearn.metrics import precision_recall_curve\n",
    "import matplotlib.pyplot as plt\n",
    "from sklearn.preprocessing import label_binarize\n",
    "from sklearn import metrics"
   ]
  },
  {
   "cell_type": "code",
   "execution_count": null,
   "metadata": {},
   "outputs": [],
   "source": [
    "# grab a pre-split curated dataset that is 50% of original data\n",
    "y = pd.read_csv('test50.csv', sep=',',low_memory=False)\n",
    "x = y[['PCHANGE', 'GENE', 'Domain', 'ClinicalSignificance','EFFECT', 'Civic_Evidence', 'CATEGORIZATION', 'FAF', 'GNOMAD_AC', 'GNOMAD_AF', 'EXON_Rank', 'COSMIC_CNT','MVP_score', 'Civic_Drug', 'PMID_COUNT', 'KEGG']]\n",
    "x = x.drop_duplicates()\n",
    "x.head()"
   ]
  },
  {
   "cell_type": "code",
   "execution_count": 3,
   "metadata": {},
   "outputs": [
    {
     "data": {
      "text/plain": [
       "CATEGORIZATION\n",
       "Benign                387158\n",
       "Disease Associated     18027\n",
       "VOUS                   16367\n",
       "Probably DA             1144\n",
       "Likely Benign            864\n",
       "Name: count, dtype: int64"
      ]
     },
     "execution_count": 3,
     "metadata": {},
     "output_type": "execute_result"
    }
   ],
   "source": [
    "x['CATEGORIZATION'].value_counts()"
   ]
  },
  {
   "cell_type": "code",
   "execution_count": 4,
   "metadata": {},
   "outputs": [],
   "source": [
    "x = x.groupby('CATEGORIZATION').sample(500)\n",
    "x['CATEGORIZATION'].value_counts()"
   ]
  },
  {
   "cell_type": "code",
   "execution_count": 8,
   "metadata": {},
   "outputs": [],
   "source": [
    "s = x.drop('CATEGORIZATION', axis=1)\n",
    "s.fillna(-999, inplace=True)"
   ]
  },
  {
   "cell_type": "code",
   "execution_count": 10,
   "metadata": {},
   "outputs": [],
   "source": [
    "#reviewer asked we only use snvs for mpv data...\n",
    "l = x[x['PCHANGE'].str.contains('fs|ins|del|\\\\*')==False]\n",
    "s2 = l.drop('CATEGORIZATION', axis=1)\n",
    "s2 = s2.drop('CPDID', axis=1)\n",
    "s2.fillna(-999, inplace=True)"
   ]
  },
  {
   "cell_type": "code",
   "execution_count": 11,
   "metadata": {},
   "outputs": [],
   "source": [
    "#here is where we will start itterating over 1 PUBLIC resource value\n",
    "gnomadS = s[['GENE','PCHANGE', 'GNOMAD_AF', 'GNOMAD_AC']]\n",
    "cosmicS = s[['GENE','PCHANGE', 'COSMIC_CNT']]\n",
    "pmidS= s[['GENE','PCHANGE', 'PMID_COUNT']]\n",
    "mvpS = s2[['GENE','PCHANGE', 'MVP_score']]\n",
    "clinvarS = s[['GENE','PCHANGE', 'ClinicalSignificance']]\n",
    "keggS = s[['GENE','PCHANGE', 'KEGG']]\n",
    "civicS = s[['GENE','PCHANGE','Civic_Evidence', 'Civic_Drug']]"
   ]
  },
  {
   "cell_type": "code",
   "execution_count": 13,
   "metadata": {},
   "outputs": [
    {
     "data": {
      "text/plain": [
       "<catboost.core.CatBoostClassifier at 0x20cf3ce2e10>"
      ]
     },
     "execution_count": 13,
     "metadata": {},
     "output_type": "execute_result"
    }
   ],
   "source": [
    "#load models\n",
    "gnomadM = CatBoostClassifier()\n",
    "gnomadM.load_model('gnomad_only.json', format='json')\n",
    "cosmicM = CatBoostClassifier()\n",
    "cosmicM.load_model('cosmic_only.json', format='json')\n",
    "pmidM = CatBoostClassifier()\n",
    "pmidM.load_model('pmid_only.json', format='json')\n",
    "mvpM = CatBoostClassifier()\n",
    "mvpM.load_model('mvp_only.json', format='json')\n",
    "clinvarM = CatBoostClassifier()\n",
    "clinvarM.load_model('clinvar_only.json', format='json')\n",
    "keggM = CatBoostClassifier()\n",
    "keggM.load_model('kegg_only.json', format='json')\n",
    "civicM = CatBoostClassifier()\n",
    "civicM.load_model('civic_only.json', format='json')\n",
    "compM = CatBoostClassifier()\n",
    "compM.load_model('azurify.json', format='json')"
   ]
  },
  {
   "cell_type": "code",
   "execution_count": 14,
   "metadata": {},
   "outputs": [],
   "source": [
    "gnomad_y_score = gnomadM.predict_proba(X=gnomadS)\n",
    "cosmic_y_score = cosmicM.predict_proba(X=cosmicS)\n",
    "pmid_y_score = pmidM.predict_proba(X=pmidS)\n",
    "mvp_y_score = mvpM.predict_proba(X=mvpS)\n",
    "clinvar_y_score = clinvarM.predict_proba(X=clinvarS)\n",
    "kegg_y_score = keggM.predict_proba(X=keggS)\n",
    "civic_y_score = civicM.predict_proba(X=civicS)\n",
    "comp_y_score = compM.predict_proba(X=s)"
   ]
  },
  {
   "cell_type": "code",
   "execution_count": null,
   "metadata": {},
   "outputs": [],
   "source": [
    "def multi_roc(n, truth, y_score):\n",
    "    n_classes = n\n",
    "    y_test = truth.values\n",
    "    y_test_bin = label_binarize(y_test, classes=(truth.unique()))\n",
    "\n",
    "    fpr = dict()\n",
    "    tpr = dict()\n",
    "    roc_auc = dict()\n",
    "    for i in range(n_classes):\n",
    "        fpr[i], tpr[i], _ = roc_curve(y_test_bin[:, i], y_score[:, i])\n",
    "        roc_auc[i] = auc(fpr[i], tpr[i])\n",
    "    return fpr,tpr,roc_auc"
   ]
  },
  {
   "cell_type": "code",
   "execution_count": 22,
   "metadata": {},
   "outputs": [],
   "source": [
    "gfpr, gtpr, gra = multi_roc(5, x['CATEGORIZATION'], gnomad_y_score)\n",
    "cfpr, ctpr, cra = multi_roc(5, x['CATEGORIZATION'], cosmic_y_score)\n",
    "pfpr, ptpr, pra = multi_roc(5, x['CATEGORIZATION'], pmid_y_score)\n",
    "mfpr, mtpr, mra = multi_roc(5, l['CATEGORIZATION'], mvp_y_score)\n",
    "cvfpr, cvtpr, cvra = multi_roc(5, x['CATEGORIZATION'], clinvar_y_score)\n",
    "kfpr, ktpr, kra = multi_roc(5, x['CATEGORIZATION'], kegg_y_score)\n",
    "cifpr, citpr, cira = multi_roc(5, x['CATEGORIZATION'], civic_y_score)\n",
    "afpr, atpr, ara = multi_roc(5, x['CATEGORIZATION'], comp_y_score)\n"
   ]
  },
  {
   "cell_type": "code",
   "execution_count": 23,
   "metadata": {},
   "outputs": [],
   "source": [
    "plt.rcParams['pdf.fonttype'] = 42\n",
    "plt.rcParams['ps.fonttype'] = 42\n",
    "plt.rcParams['font.family'] = 'Arial'\n",
    "plt.rcParams[\"figure.figsize\"] = (8,6)\n",
    "plt.rcParams.update({'font.size': 16})\n",
    "\n",
    "\n",
    "classes = ['Benign', 'Pathogenic', 'Likely Benign', 'Likely Pathogenic', 'VUS']\n",
    "\n",
    "for i in range(len(classes)):\n",
    "    plt.plot(afpr[i], atpr[i], label='Azurify (AP = {1:0.2f})'''.format(i, ara[i], color=\"#011F5B\"))\n",
    "    plt.plot(gfpr[i], gtpr[i], label='Gnomad (AP = {1:0.2f})'''.format(i, gra[i]))\n",
    "    plt.plot(mfpr[i], mtpr[i], label='MVP (AP = {1:0.2f})'''.format(i, mra[i]))\n",
    "    plt.plot(cfpr[i], ctpr[i], label='COSMIC (AP = {1:0.2f})'''.format(i, cra[i]))\n",
    "    plt.plot(pfpr[i], ptpr[i], label='PubMed Count (AP = {1:0.2f})'''.format(i, pra[i]))\n",
    "    plt.plot(cvfpr[i], cvtpr[i], label='ClinVar (AP = {1:0.2f})'''.format(i, cvra[i]))\n",
    "    plt.plot(kfpr[i], ktpr[i], label='KEGG (AP = {1:0.2f})'''.format(i, kra[i]))\n",
    "    plt.plot(cifpr[i], citpr[i], label='CiVic (AP = {1:0.2f})'''.format(i, cira[i]))\n",
    "    plt.xlabel('False Positive Rate')\n",
    "    plt.ylabel('True Positive Rate')\n",
    "    plt.title(('One-vs-Rest ROC curves: ' + classes[i]))\n",
    "    plt.legend(loc='lower right')\n",
    "    plt.savefig((classes[i] + '.OvR.pdf'), dpi=600)\n",
    "    plt.clf()\n",
    "    plt.close(\"all\")\n"
   ]
  }
 ],
 "metadata": {
  "kernelspec": {
   "display_name": "Python 3 (ipykernel)",
   "language": "python",
   "name": "python3"
  },
  "language_info": {
   "codemirror_mode": {
    "name": "ipython",
    "version": 3
   },
   "file_extension": ".py",
   "mimetype": "text/x-python",
   "name": "python",
   "nbconvert_exporter": "python",
   "pygments_lexer": "ipython3",
   "version": "3.12.5"
  }
 },
 "nbformat": 4,
 "nbformat_minor": 4
}
