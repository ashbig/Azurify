{
 "cells": [
  {
   "cell_type": "code",
   "execution_count": 2,
   "metadata": {},
   "outputs": [
    {
     "name": "stdout",
     "output_type": "stream",
     "text": [
      "1.2.5\n"
     ]
    }
   ],
   "source": [
    "import pandas as pd\n",
    "import numpy as np\n",
    "import catboost\n",
    "print(catboost.__version__)"
   ]
  },
  {
   "cell_type": "code",
   "execution_count": 4,
   "metadata": {},
   "outputs": [
    {
     "data": {
      "text/html": [
       "<div>\n",
       "<style scoped>\n",
       "    .dataframe tbody tr th:only-of-type {\n",
       "        vertical-align: middle;\n",
       "    }\n",
       "\n",
       "    .dataframe tbody tr th {\n",
       "        vertical-align: top;\n",
       "    }\n",
       "\n",
       "    .dataframe thead th {\n",
       "        text-align: right;\n",
       "    }\n",
       "</style>\n",
       "<table border=\"1\" class=\"dataframe\">\n",
       "  <thead>\n",
       "    <tr style=\"text-align: right;\">\n",
       "      <th></th>\n",
       "      <th>PCHANGE</th>\n",
       "      <th>GENE</th>\n",
       "      <th>Domain</th>\n",
       "      <th>ClinicalSignificance</th>\n",
       "      <th>EFFECT</th>\n",
       "      <th>Civic_Evidence</th>\n",
       "      <th>CATEGORIZATION</th>\n",
       "      <th>FAF</th>\n",
       "      <th>GNOMAD_AC</th>\n",
       "      <th>GNOMAD_AF</th>\n",
       "      <th>EXON_Rank</th>\n",
       "      <th>COSMIC_CNT</th>\n",
       "      <th>MVP_score</th>\n",
       "      <th>Civic_Drug</th>\n",
       "      <th>PMID_COUNT</th>\n",
       "      <th>KEGG</th>\n",
       "    </tr>\n",
       "  </thead>\n",
       "  <tbody>\n",
       "    <tr>\n",
       "      <th>0</th>\n",
       "      <td>p.Asn1983Ser</td>\n",
       "      <td>ATM</td>\n",
       "      <td>VWFD</td>\n",
       "      <td>Benign</td>\n",
       "      <td>missense_variant</td>\n",
       "      <td>Unknown</td>\n",
       "      <td>Benign</td>\n",
       "      <td>99.73</td>\n",
       "      <td>NaN</td>\n",
       "      <td>NaN</td>\n",
       "      <td>40</td>\n",
       "      <td>NaN</td>\n",
       "      <td>NaN</td>\n",
       "      <td>1</td>\n",
       "      <td>6.0</td>\n",
       "      <td>1</td>\n",
       "    </tr>\n",
       "    <tr>\n",
       "      <th>1</th>\n",
       "      <td>p.Leu815Pro</td>\n",
       "      <td>ASXL1</td>\n",
       "      <td>U-box</td>\n",
       "      <td>not provided</td>\n",
       "      <td>missense_variant</td>\n",
       "      <td>Unknown</td>\n",
       "      <td>Benign</td>\n",
       "      <td>99.67</td>\n",
       "      <td>NaN</td>\n",
       "      <td>NaN</td>\n",
       "      <td>12</td>\n",
       "      <td>NaN</td>\n",
       "      <td>NaN</td>\n",
       "      <td>1</td>\n",
       "      <td>1.0</td>\n",
       "      <td>1</td>\n",
       "    </tr>\n",
       "    <tr>\n",
       "      <th>2</th>\n",
       "      <td>p.Phe111Leu</td>\n",
       "      <td>BCORL1</td>\n",
       "      <td>Unknown</td>\n",
       "      <td>Unknown</td>\n",
       "      <td>missense_variant</td>\n",
       "      <td>Unknown</td>\n",
       "      <td>Benign</td>\n",
       "      <td>99.77</td>\n",
       "      <td>NaN</td>\n",
       "      <td>NaN</td>\n",
       "      <td>3</td>\n",
       "      <td>NaN</td>\n",
       "      <td>NaN</td>\n",
       "      <td>1</td>\n",
       "      <td>2.0</td>\n",
       "      <td>1</td>\n",
       "    </tr>\n",
       "    <tr>\n",
       "      <th>3</th>\n",
       "      <td>p.Ile997Val</td>\n",
       "      <td>EP300</td>\n",
       "      <td>Unknown</td>\n",
       "      <td>Benign</td>\n",
       "      <td>missense_variant</td>\n",
       "      <td>Unknown</td>\n",
       "      <td>Benign</td>\n",
       "      <td>62.39</td>\n",
       "      <td>NaN</td>\n",
       "      <td>NaN</td>\n",
       "      <td>15</td>\n",
       "      <td>NaN</td>\n",
       "      <td>NaN</td>\n",
       "      <td>1</td>\n",
       "      <td>10.0</td>\n",
       "      <td>0</td>\n",
       "    </tr>\n",
       "    <tr>\n",
       "      <th>4</th>\n",
       "      <td>p.Ala2223Val</td>\n",
       "      <td>NOTCH3</td>\n",
       "      <td>Protein kinase...</td>\n",
       "      <td>Benign</td>\n",
       "      <td>missense_variant</td>\n",
       "      <td>Unknown</td>\n",
       "      <td>Benign</td>\n",
       "      <td>99.91</td>\n",
       "      <td>NaN</td>\n",
       "      <td>NaN</td>\n",
       "      <td>33</td>\n",
       "      <td>NaN</td>\n",
       "      <td>NaN</td>\n",
       "      <td>1</td>\n",
       "      <td>12.0</td>\n",
       "      <td>1</td>\n",
       "    </tr>\n",
       "  </tbody>\n",
       "</table>\n",
       "</div>"
      ],
      "text/plain": [
       "        PCHANGE    GENE             Domain ClinicalSignificance  \\\n",
       "0  p.Asn1983Ser     ATM               VWFD               Benign   \n",
       "1   p.Leu815Pro   ASXL1              U-box         not provided   \n",
       "2   p.Phe111Leu  BCORL1            Unknown              Unknown   \n",
       "3   p.Ile997Val   EP300            Unknown               Benign   \n",
       "4  p.Ala2223Val  NOTCH3  Protein kinase...               Benign   \n",
       "\n",
       "             EFFECT Civic_Evidence CATEGORIZATION    FAF  GNOMAD_AC  \\\n",
       "0  missense_variant        Unknown         Benign  99.73        NaN   \n",
       "1  missense_variant        Unknown         Benign  99.67        NaN   \n",
       "2  missense_variant        Unknown         Benign  99.77        NaN   \n",
       "3  missense_variant        Unknown         Benign  62.39        NaN   \n",
       "4  missense_variant        Unknown         Benign  99.91        NaN   \n",
       "\n",
       "   GNOMAD_AF  EXON_Rank  COSMIC_CNT  MVP_score  Civic_Drug  PMID_COUNT  KEGG  \n",
       "0        NaN         40         NaN        NaN           1         6.0     1  \n",
       "1        NaN         12         NaN        NaN           1         1.0     1  \n",
       "2        NaN          3         NaN        NaN           1         2.0     1  \n",
       "3        NaN         15         NaN        NaN           1        10.0     0  \n",
       "4        NaN         33         NaN        NaN           1        12.0     1  "
      ]
     },
     "execution_count": 4,
     "metadata": {},
     "output_type": "execute_result"
    }
   ],
   "source": [
    "# grab a pre-split curated dataset that is 50% of original data\n",
    "y = pd.read_csv('train50.csv', sep=',',low_memory=False)\n",
    "x = y[['PCHANGE', 'GENE', 'Domain', 'ClinicalSignificance','EFFECT', 'Civic_Evidence', 'CATEGORIZATION', 'FAF', 'GNOMAD_AC', 'GNOMAD_AF', 'EXON_Rank', 'COSMIC_CNT','MVP_score', 'Civic_Drug', 'PMID_COUNT', 'KEGG']]\n",
    "x = x.drop_duplicates(subset=['GENE', 'PCHANGE', 'CATEGORIZATION'], keep='first')\n",
    "x.head()"
   ]
  },
  {
   "cell_type": "code",
   "execution_count": 85,
   "metadata": {},
   "outputs": [],
   "source": [
    "#here is where we will start itterating over 1 PUBLIC resource value at a time for our model\n",
    "##NUMERICALS ONLY\n",
    "#2 GNOMAD\n",
    "#subt = x[['GENE', 'PCHANGE','CATEGORIZATION', 'GNOMAD_AF', 'GNOMAD_AC']]\n",
    "#3 cosmic\n",
    "#subt = x[['GENE', 'PCHANGE','CATEGORIZATION', 'COSMIC_CNT']]\n",
    "#4 PMID\n",
    "#subt = x[['GENE', 'PCHANGE', 'CATEGORIZATION', 'PMID_COUNT']]\n",
    "#5 MVP\n",
    "# reviewer requested to only use mvp on single nucleotide variants...\n",
    "#l = x[x['PCHANGE'].str.contains('fs|ins|del|\\\\*')==False]\n",
    "#subt = l[['GENE', 'PCHANGE', 'CATEGORIZATION', 'MVP_score']]\n",
    "#6 \n",
    "#subt = x[['GENE', 'PCHANGE','CATEGORIZATION' , 'KEGG']]\n",
    "## Cats\n",
    "#7 clinvar\n",
    "#subt = x[['GENE', 'PCHANGE', 'CATEGORIZATION' , 'ClinicalSignificance']]\n",
    "#8 \n",
    "subt = x[['GENE', 'PCHANGE', 'CATEGORIZATION' , 'Civic_Evidence', 'Civic_Drug']]\n"
   ]
  },
  {
   "cell_type": "code",
   "execution_count": 86,
   "metadata": {},
   "outputs": [],
   "source": [
    "train_df = subt.copy()"
   ]
  },
  {
   "cell_type": "code",
   "execution_count": 87,
   "metadata": {},
   "outputs": [
    {
     "data": {
      "text/plain": [
       "Series([], dtype: int64)"
      ]
     },
     "execution_count": 87,
     "metadata": {},
     "output_type": "execute_result"
    }
   ],
   "source": [
    "null_value_stats = train_df.isnull().sum(axis=0)\n",
    "null_value_stats[null_value_stats != 0]"
   ]
  },
  {
   "cell_type": "code",
   "execution_count": 88,
   "metadata": {},
   "outputs": [],
   "source": [
    "train_df.fillna(-999, inplace=True)"
   ]
  },
  {
   "cell_type": "code",
   "execution_count": 89,
   "metadata": {},
   "outputs": [
    {
     "data": {
      "text/html": [
       "<div>\n",
       "<style scoped>\n",
       "    .dataframe tbody tr th:only-of-type {\n",
       "        vertical-align: middle;\n",
       "    }\n",
       "\n",
       "    .dataframe tbody tr th {\n",
       "        vertical-align: top;\n",
       "    }\n",
       "\n",
       "    .dataframe thead th {\n",
       "        text-align: right;\n",
       "    }\n",
       "</style>\n",
       "<table border=\"1\" class=\"dataframe\">\n",
       "  <thead>\n",
       "    <tr style=\"text-align: right;\">\n",
       "      <th></th>\n",
       "      <th>GENE</th>\n",
       "      <th>PCHANGE</th>\n",
       "      <th>CATEGORIZATION</th>\n",
       "      <th>Civic_Evidence</th>\n",
       "      <th>Civic_Drug</th>\n",
       "    </tr>\n",
       "  </thead>\n",
       "  <tbody>\n",
       "    <tr>\n",
       "      <th>0</th>\n",
       "      <td>ATM</td>\n",
       "      <td>p.Asn1983Ser</td>\n",
       "      <td>Benign</td>\n",
       "      <td>Unknown</td>\n",
       "      <td>1</td>\n",
       "    </tr>\n",
       "    <tr>\n",
       "      <th>1</th>\n",
       "      <td>ASXL1</td>\n",
       "      <td>p.Leu815Pro</td>\n",
       "      <td>Benign</td>\n",
       "      <td>Unknown</td>\n",
       "      <td>1</td>\n",
       "    </tr>\n",
       "    <tr>\n",
       "      <th>2</th>\n",
       "      <td>BCORL1</td>\n",
       "      <td>p.Phe111Leu</td>\n",
       "      <td>Benign</td>\n",
       "      <td>Unknown</td>\n",
       "      <td>1</td>\n",
       "    </tr>\n",
       "    <tr>\n",
       "      <th>3</th>\n",
       "      <td>EP300</td>\n",
       "      <td>p.Ile997Val</td>\n",
       "      <td>Benign</td>\n",
       "      <td>Unknown</td>\n",
       "      <td>1</td>\n",
       "    </tr>\n",
       "    <tr>\n",
       "      <th>4</th>\n",
       "      <td>NOTCH3</td>\n",
       "      <td>p.Ala2223Val</td>\n",
       "      <td>Benign</td>\n",
       "      <td>Unknown</td>\n",
       "      <td>1</td>\n",
       "    </tr>\n",
       "  </tbody>\n",
       "</table>\n",
       "</div>"
      ],
      "text/plain": [
       "     GENE       PCHANGE CATEGORIZATION Civic_Evidence  Civic_Drug\n",
       "0     ATM  p.Asn1983Ser         Benign        Unknown           1\n",
       "1   ASXL1   p.Leu815Pro         Benign        Unknown           1\n",
       "2  BCORL1   p.Phe111Leu         Benign        Unknown           1\n",
       "3   EP300   p.Ile997Val         Benign        Unknown           1\n",
       "4  NOTCH3  p.Ala2223Val         Benign        Unknown           1"
      ]
     },
     "execution_count": 89,
     "metadata": {},
     "output_type": "execute_result"
    }
   ],
   "source": [
    "train_df.head()"
   ]
  },
  {
   "cell_type": "code",
   "execution_count": 90,
   "metadata": {},
   "outputs": [],
   "source": [
    "X = train_df.drop('CATEGORIZATION', axis=1)\n",
    "y = train_df.CATEGORIZATION"
   ]
  },
  {
   "cell_type": "code",
   "execution_count": 92,
   "metadata": {},
   "outputs": [
    {
     "name": "stdout",
     "output_type": "stream",
     "text": [
      "length of Xtrain and Xtest:  13758 3440\n",
      "length of ytrain and ytest:  13758 3440\n"
     ]
    }
   ],
   "source": [
    "from sklearn.model_selection import train_test_split\n",
    "X_train, X_validation, y_train, y_validation = train_test_split(X, y, train_size=0.8, random_state=1234)\n",
    "print('length of Xtrain and Xtest: ', len(X_train), len(X_validation))\n",
    "print('length of ytrain and ytest: ', len(y_train), len(y_validation))"
   ]
  },
  {
   "cell_type": "code",
   "execution_count": 95,
   "metadata": {},
   "outputs": [],
   "source": [
    "#categorical_names = ['GENE', 'PCHANGE'] # all numericals\n",
    "#categorical_names = ['GENE', 'PCHANGE','ClinicalSignificance'] # clinvar\n",
    "categorical_names = ['GENE', 'PCHANGE', 'Civic_Evidence'] # civic\n",
    "\n",
    "cat_features = [X.columns.get_loc(i) for i in categorical_names]"
   ]
  },
  {
   "cell_type": "code",
   "execution_count": 96,
   "metadata": {},
   "outputs": [
    {
     "data": {
      "text/plain": [
       "<catboost.core.CatBoostClassifier at 0x2315c041a90>"
      ]
     },
     "execution_count": 96,
     "metadata": {},
     "output_type": "execute_result"
    }
   ],
   "source": [
    "from catboost import CatBoostClassifier\n",
    "model_with_early_stop = CatBoostClassifier(\n",
    "    eval_metric='AUC',\n",
    "    iterations=200,\n",
    "    random_seed=43,\n",
    "    learning_rate=0.3,\n",
    "    early_stopping_rounds=20\n",
    ")\n",
    "model_with_early_stop.fit(\n",
    "    X_train, y_train,\n",
    "    cat_features=cat_features,\n",
    "    eval_set=(X_validation, y_validation),\n",
    "    verbose=False,\n",
    "    plot=False\n",
    ")\n",
    "\n"
   ]
  },
  {
   "cell_type": "code",
   "execution_count": 97,
   "metadata": {},
   "outputs": [],
   "source": [
    "#model_with_early_stop.save_model('gnomad_only.json', format='json')\n",
    "#model_with_early_stop.save_model('cosmic_only.json', format='json')\n",
    "#model_with_early_stop.save_model('pmid_only.json', format='json')\n",
    "#model_with_early_stop.save_model('mvp_only.json', format='json')\n",
    "#model_with_early_stop.save_model('kegg_only..json', format='json')\n",
    "#model_with_early_stop.save_model('clinvar_only..json', format='json')\n",
    "#model_with_early_stop.save_model('civic_only..json', format='json')"
   ]
  },
  {
   "cell_type": "code",
   "execution_count": null,
   "metadata": {},
   "outputs": [],
   "source": []
  }
 ],
 "metadata": {
  "kernelspec": {
   "display_name": "Python 3 (ipykernel)",
   "language": "python",
   "name": "python3"
  },
  "language_info": {
   "codemirror_mode": {
    "name": "ipython",
    "version": 3
   },
   "file_extension": ".py",
   "mimetype": "text/x-python",
   "name": "python",
   "nbconvert_exporter": "python",
   "pygments_lexer": "ipython3",
   "version": "3.8.19"
  }
 },
 "nbformat": 4,
 "nbformat_minor": 4
}
