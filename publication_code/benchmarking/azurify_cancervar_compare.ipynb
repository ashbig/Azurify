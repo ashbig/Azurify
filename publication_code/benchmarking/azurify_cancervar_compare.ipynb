{
 "cells": [
  {
   "cell_type": "code",
   "execution_count": 1,
   "metadata": {},
   "outputs": [],
   "source": [
    "import pandas as pd\n",
    "import matplotlib.pyplot as plt\n",
    "import time\n",
    "import requests"
   ]
  },
  {
   "cell_type": "code",
   "execution_count": null,
   "metadata": {},
   "outputs": [],
   "source": [
    "df = pd.read_csv(file, sep='\\t',low_memory=False)\n",
    "sdf = df[['CHROM', 'POS', 'REF', 'ALT']].copy()\n",
    "sdf['CHROM'] = sdf['CHROM'].str.replace('chr', '')\n",
    "sdf = sdf.astype('str')\n",
    "sdf.drop_duplicates(keep=\"first\", inplace=True)\n",
    "sdf.head()"
   ]
  },
  {
   "cell_type": "code",
   "execution_count": null,
   "metadata": {},
   "outputs": [],
   "source": [
    "#read in a given file to get cancervar predictions \n",
    "#post running the  code, you can read in the file and plot the results\n",
    "out=\"file\" # you have to change this\n",
    "with open(out, 'w+') as o:\n",
    "    for index, row in sdf.iterrows():\n",
    "        chrom = row['CHROM']\n",
    "        pos = row['POS']\n",
    "        ref = row['REF']\n",
    "        alt = row['ALT']\n",
    "        url = \"http://cancervar.wglab.org/api_new.php?queryType=position&build=hg19&chr=\" + chrom + \"&pos=\" + pos + \"&ref=\" + ref + '&alt=' + alt\n",
    "        time.sleep(.5)\n",
    "        response = requests.get(url)\n",
    "        code = response.status_code\n",
    "        try:\n",
    "            jr = response.json()\n",
    "            tier = jr['Cancervar']\n",
    "        except:\n",
    "            tier = 'NA'\n",
    "        o.write(chrom + \"\\t\" + pos + '\\t' + ref + '\\t' + alt + '\\t' + tier + '\\n')"
   ]
  },
  {
   "cell_type": "code",
   "execution_count": null,
   "metadata": {},
   "outputs": [],
   "source": [
    "#post running of the above code, you can read in the file and plot the results\n",
    "cvi = pd.read_csv(\"upenn_independent_set.txt\", header=None, sep='\\t')\n",
    "\n",
    "#first lets harmonize data from the cancervar calls\n",
    "cv = cvi.rename({0: 'CHROM', 1: 'POS', 2: 'REF', 3: 'ALT', 4: 'CancerVar'}, axis=1)\n",
    "cv['CHROM'] = 'chr' + cv['CHROM']\n",
    "#'Tier I/Pathogenic: Variants of Strong Clinical Significance','Tier II/Likely Pathogenic: Variants of Potential Clinical Significance','Tier III: Variants of Unknown Clinical Significance' and 'Tier IV: Benign or Likely Benign Variants', together with detailed evidence.\n",
    "#lets convert the cancervar to cpd cats\n",
    "cv['CancerVar'] = cv['CancerVar'].str.split('#').str[1]\n",
    "cv['CancerVar'] = cv['CancerVar'].astype(str).str.replace('Tier_I_strong', 'Pathogenic')\n",
    "cv['CancerVar'] = cv['CancerVar'].astype(str).str.replace('Tier_III_Uncertain', 'VUS')\n",
    "cv['CancerVar'] = cv['CancerVar'].astype(str).str.replace('Tier_II_potential', 'Likely Pathogenic')\n",
    "cv['CancerVar'] = cv['CancerVar'].astype(str).str.replace('Tier_IV_benign', 'Likely Benign')\n",
    "#cv =cv[cv['CancerVar'] != 'nan'] #comment this in or out to leave NA in or out\n",
    "cv.head()"
   ]
  },
  {
   "cell_type": "code",
   "execution_count": null,
   "metadata": {},
   "outputs": [],
   "source": [
    "m = cpdr.merge(cv, how='left', on=['CHROM','POS', 'REF', 'ALT'])\n",
    "m.drop_duplicates()\n",
    "m.head(20)"
   ]
  },
  {
   "cell_type": "code",
   "execution_count": null,
   "metadata": {},
   "outputs": [],
   "source": [
    "confusion_matrix = pd.crosstab(m['CATEGORIZATION'], m['CancerVar'], rownames=['Clinical Review'], colnames=['CancerVar']).apply(lambda r: r/r.sum(), axis=1)\n",
    "confusion_matrix.head()"
   ]
  },
  {
   "cell_type": "code",
   "execution_count": null,
   "metadata": {},
   "outputs": [],
   "source": [
    "cm2 = pd.crosstab(m['CATEGORIZATION'], m['comp_pred'], rownames=['Clinical Review'], colnames=['Azurify']).apply(lambda r: r/r.sum(), axis=1)\n",
    "cm2.head()"
   ]
  },
  {
   "cell_type": "code",
   "execution_count": null,
   "metadata": {},
   "outputs": [],
   "source": [
    "# THIS IS THE CANCER VAR SET WITH NO Benign USING THIS FOR PUBLICATION \n",
    "data = { 'Azurify' : [97.51,24.10,84.31,37.61],\n",
    "        'CancerVar': [13.61, 41.03, 67.11, 10.11],\n",
    "        'Category': ['Pathogenic', 'Likely Pathogenic', 'VUS', 'Likely Benign']}\n",
    "az = pd.DataFrame(data)\n",
    "az = az.set_index('Category')\n",
    "az.head()"
   ]
  },
  {
   "cell_type": "code",
   "execution_count": null,
   "metadata": {},
   "outputs": [],
   "source": [
    "\n",
    "plt.rcParams['pdf.fonttype'] = 42\n",
    "plt.rcParams['ps.fonttype'] = 42\n",
    "plt.rcParams['font.family'] = 'Arial'\n",
    "color_red = '#990000'  \n",
    "color_blue = '#011F5B'\n",
    "index = az.index\n",
    "column0 = az['Azurify']\n",
    "column1 = az['CancerVar']\n",
    "title0 = 'Azurify'\n",
    "title1 = 'CancerVar'\n",
    "\n",
    "fig, axes = plt.subplots(figsize=(10,5), ncols=2, sharey=True)\n",
    "fig.tight_layout()\n",
    "\n",
    "axes[0].barh(index, column0, align='center', color=color_blue, zorder=10)\n",
    "axes[0].set_title(title0, fontsize=18, pad=15, color=color_blue, **hfont)\n",
    "axes[1].barh(index, column1, align='center', color=color_red, zorder=10)\n",
    "axes[1].set_title(title1, fontsize=18, pad=15, color=color_red, **hfont)\n",
    "axes[0].invert_xaxis()\n",
    "axes[0].set(yticks=az.index, yticklabels=az.index)\n",
    "axes[0].yaxis.tick_left()\n",
    "axes[0].tick_params(axis='y', colors='white') # tick color\n",
    "\n",
    "axes[1].set_xticks([0, 20, 40, 60, 80, 100])\n",
    "\n",
    "for label in (axes[0].get_xticklabels() + axes[0].get_yticklabels()):\n",
    "    label.set(fontsize=16, color='black')\n",
    "for label in (axes[1].get_xticklabels() + axes[1].get_yticklabels()):\n",
    "    label.set(fontsize=16, color='black')\n",
    "#plt.style.use('seaborn-white')\n",
    "plt.gca().invert_yaxis()\n",
    "plt.subplots_adjust(wspace=0, top=0.85, bottom=0.1, left=0.18, right=0.95)\n",
    "plt.savefig('AZvsCV.pdf', dpi=600)"
   ]
  },
  {
   "cell_type": "code",
   "execution_count": null,
   "metadata": {},
   "outputs": [],
   "source": [
    "#now compare using UC and UAB data"
   ]
  },
  {
   "cell_type": "code",
   "execution_count": null,
   "metadata": {},
   "outputs": [],
   "source": [
    "uab_cv_aml = pd.read_csv('UAB_cancervar.txt', sep='\\t')\n",
    "UC_cv_all = pd.read_csv('UC_cancervar.txt', sep='\\t')\n"
   ]
  },
  {
   "cell_type": "code",
   "execution_count": null,
   "metadata": {},
   "outputs": [],
   "source": [
    "concord_canvervar = pd.read_csv('concord_uc_uab_cv.txt', sep='\\t', header=None, names=['CHROM', 'POS', 'REF', 'ALT', 'CancerVar'])\n",
    "concord_canvervar.head()"
   ]
  },
  {
   "cell_type": "code",
   "execution_count": null,
   "metadata": {},
   "outputs": [],
   "source": [
    "#first lets harmonize data from the cancervar calls\n",
    "cv = concord_canvervar.rename({0: 'CHROM', 1: 'POS', 2: 'REF', 3: 'ALT', 4: 'CancerVar'}, axis=1)\n",
    "cv['CHROM'] = 'chr' + cv['CHROM']\n",
    "#'Tier I/Pathogenic: Variants of Strong Clinical Significance','Tier II/Likely Pathogenic: Variants of Potential Clinical Significance','Tier III: Variants of Unknown Clinical Significance' and 'Tier IV: Benign or Likely Benign Variants', together with detailed evidence.\n",
    "#lets convert the cancervar to cpd cats\n",
    "cv['CancerVar'] = cv['CancerVar'].str.split('#').str[1]\n",
    "cv['CancerVar'] = cv['CancerVar'].astype(str).str.replace('Tier_I_strong', 'Pathogenic')\n",
    "cv['CancerVar'] = cv['CancerVar'].astype(str).str.replace('Tier_III_Uncertain', 'Non-Pathogenic')\n",
    "cv['CancerVar'] = cv['CancerVar'].astype(str).str.replace('Tier_II_potential', 'Pathogenic')\n",
    "cv['CancerVar'] = cv['CancerVar'].astype(str).str.replace('Tier_IV_benign', 'Non-Pathogenic')\n",
    "#cv =cv[cv['CancerVar'] != 'nan'] #comment this in or out to leave NA in or out\n",
    "cv.head()"
   ]
  },
  {
   "cell_type": "code",
   "execution_count": null,
   "metadata": {},
   "outputs": [],
   "source": [
    "ca = pd.read_csv('all_concordant.tsv', sep='\\t')\n",
    "ca.head()"
   ]
  },
  {
   "cell_type": "code",
   "execution_count": null,
   "metadata": {},
   "outputs": [],
   "source": [
    "m = ca.merge(cv, how='left', on=['CHROM','POS', 'REF', 'ALT'])\n",
    "m.drop_duplicates()\n"
   ]
  },
  {
   "cell_type": "code",
   "execution_count": null,
   "metadata": {},
   "outputs": [],
   "source": [
    "confusion_matrix = pd.crosstab(m['EXT_CATEGORIZATION'], m['CancerVar'], rownames=['EXT_CATEGORIZATION'], colnames=['CancerVar']).apply(lambda r: r/r.sum(), axis=1)\n",
    "confusion_matrix.head()"
   ]
  },
  {
   "cell_type": "code",
   "execution_count": null,
   "metadata": {},
   "outputs": [],
   "source": [
    "cm2 = pd.crosstab(m['EXT_CATEGORIZATION'], m['Pathogenicity'], rownames=['Clinical Review'], colnames=['Azurify']).apply(lambda r: r/r.sum(), axis=1)\n",
    "cm2.head()"
   ]
  },
  {
   "cell_type": "code",
   "execution_count": 30,
   "metadata": {},
   "outputs": [
    {
     "data": {
      "text/html": [
       "<div>\n",
       "<style scoped>\n",
       "    .dataframe tbody tr th:only-of-type {\n",
       "        vertical-align: middle;\n",
       "    }\n",
       "\n",
       "    .dataframe tbody tr th {\n",
       "        vertical-align: top;\n",
       "    }\n",
       "\n",
       "    .dataframe thead th {\n",
       "        text-align: right;\n",
       "    }\n",
       "</style>\n",
       "<table border=\"1\" class=\"dataframe\">\n",
       "  <thead>\n",
       "    <tr style=\"text-align: right;\">\n",
       "      <th></th>\n",
       "      <th>Azurify</th>\n",
       "      <th>CancerVar</th>\n",
       "    </tr>\n",
       "    <tr>\n",
       "      <th>Category</th>\n",
       "      <th></th>\n",
       "      <th></th>\n",
       "    </tr>\n",
       "  </thead>\n",
       "  <tbody>\n",
       "    <tr>\n",
       "      <th>Pathogenic</th>\n",
       "      <td>98.53</td>\n",
       "      <td>95.56</td>\n",
       "    </tr>\n",
       "    <tr>\n",
       "      <th>Non-Pathogenic</th>\n",
       "      <td>100.00</td>\n",
       "      <td>89.97</td>\n",
       "    </tr>\n",
       "    <tr>\n",
       "      <th>N/A</th>\n",
       "      <td>0.00</td>\n",
       "      <td>10.95</td>\n",
       "    </tr>\n",
       "  </tbody>\n",
       "</table>\n",
       "</div>"
      ],
      "text/plain": [
       "                Azurify  CancerVar\n",
       "Category                          \n",
       "Pathogenic        98.53      95.56\n",
       "Non-Pathogenic   100.00      89.97\n",
       "N/A                0.00      10.95"
      ]
     },
     "execution_count": 30,
     "metadata": {},
     "output_type": "execute_result"
    }
   ],
   "source": [
    "# THIS IS THE CANCER VAR SET WITH NO Benign USING THIS FOR PUBLICATION \n",
    "\n",
    "# NA VALUE FOR CANCERVAR IS \n",
    "\n",
    "#lets manually create a dataframe with the results from eaach % concordant \n",
    "#the order is Azurify first, then cancervar. class order is -> Pathogenic (disease associated), Likely Pathogenic (Probably DA), VUS (VOUS), Benign\n",
    "data = { 'Azurify' : [98.53,100.00, 0.0],\n",
    "        'CancerVar': [95.56, 89.97, 10.95],\n",
    "        'Category': ['Pathogenic', 'Non-Pathogenic', 'N/A']}\n",
    "az = pd.DataFrame(data)\n",
    "az = az.set_index('Category')\n",
    "az.head()"
   ]
  },
  {
   "cell_type": "code",
   "execution_count": 36,
   "metadata": {},
   "outputs": [],
   "source": [
    "\n",
    "plt.rcParams['pdf.fonttype'] = 42\n",
    "plt.rcParams['ps.fonttype'] = 42\n",
    "plt.rcParams['font.family'] = 'Arial'\n",
    "color_red = '#990000'  \n",
    "color_blue = '#011F5B'\n",
    "index = az.index\n",
    "column0 = az['Azurify']\n",
    "column1 = az['CancerVar']\n",
    "title0 = 'Azurify'\n",
    "title1 = 'CancerVar'"
   ]
  },
  {
   "cell_type": "code",
   "execution_count": null,
   "metadata": {},
   "outputs": [],
   "source": [
    "\n",
    "fig, axes = plt.subplots(figsize=(10,5), ncols=2, sharey=True)\n",
    "fig.tight_layout()\n",
    "\n",
    "axes[0].barh(index, column0, align='center', color=color_blue, zorder=10)\n",
    "axes[0].set_title(title0, fontsize=18, pad=15, color=color_blue)\n",
    "axes[1].barh(index, column1, align='center', color=color_red, zorder=10)\n",
    "axes[1].set_title(title1, fontsize=18, pad=15, color=color_red)\n",
    "axes[0].invert_xaxis()\n",
    "axes[0].set(yticks=az.index, yticklabels=az.index)\n",
    "axes[0].yaxis.tick_left()\n",
    "axes[0].tick_params(axis='y', colors='white') # tick color\n",
    "\n",
    "axes[1].set_xticks([0, 20, 40, 60, 80, 100])\n",
    "\n",
    "for label in (axes[0].get_xticklabels() + axes[0].get_yticklabels()):\n",
    "    label.set(fontsize=16, color='black')\n",
    "for label in (axes[1].get_xticklabels() + axes[1].get_yticklabels()):\n",
    "    label.set(fontsize=16, color='black')\n",
    "#plt.style.use('seaborn-white')\n",
    "plt.gca().invert_yaxis()\n",
    "plt.subplots_adjust(wspace=0, top=0.85, bottom=0.1, left=0.18, right=0.95)\n",
    "plt.savefig('AZvsCV.all_concordant.pdf', dpi=600)"
   ]
  },
  {
   "cell_type": "code",
   "execution_count": null,
   "metadata": {},
   "outputs": [],
   "source": [
    "#now lets read in all of the uab and uc data\n",
    "uab_cv_aml = pd.read_csv('UAB_cancervar_aml.txt', sep='\\t', header=None, names=['CHROM', 'POS', 'REF', 'ALT', 'CancerVar'])\n",
    "uab_cv_lung = pd.read_csv('UAB_cancervar_lung.txt', sep='\\t', header=None, names=['CHROM', 'POS', 'REF', 'ALT', 'CancerVar'])\n",
    "UC_cv_all = pd.read_csv('UC_cancervar_all.txt', sep='\\t', header=None, names=['CHROM', 'POS', 'REF', 'ALT', 'CancerVar'])\n",
    "ext_cv_all = pd.concat([uab_cv_aml, uab_cv_lung, UC_cv_all])\n",
    "ext_cv_all.head()"
   ]
  },
  {
   "cell_type": "code",
   "execution_count": 43,
   "metadata": {},
   "outputs": [],
   "source": [
    "#first lets harmonize data from the cancervar calls\n",
    "cv = ext_cv_all.rename({0: 'CHROM', 1: 'POS', 2: 'REF', 3: 'ALT', 4: 'CancerVar'}, axis=1)\n",
    "cv['CHROM'] = 'chr' + cv['CHROM']\n",
    "#'Tier I/Pathogenic: Variants of Strong Clinical Significance','Tier II/Likely Pathogenic: Variants of Potential Clinical Significance','Tier III: Variants of Unknown Clinical Significance' and 'Tier IV: Benign or Likely Benign Variants', together with detailed evidence.\n",
    "#lets convert the cancervar to cpd cats\n",
    "cv['CancerVar'] = cv['CancerVar'].str.split('#').str[1]\n",
    "cv['CancerVar'] = cv['CancerVar'].astype(str).str.replace('Tier_I_strong', 'Pathogenic')\n",
    "cv['CancerVar'] = cv['CancerVar'].astype(str).str.replace('Tier_III_Uncertain', 'Non-Pathogenic')\n",
    "cv['CancerVar'] = cv['CancerVar'].astype(str).str.replace('Tier_II_potential', 'Pathogenic')\n",
    "cv['CancerVar'] = cv['CancerVar'].astype(str).str.replace('Tier_IV_benign', 'Non-Pathogenic')"
   ]
  },
  {
   "cell_type": "code",
   "execution_count": 105,
   "metadata": {},
   "outputs": [],
   "source": [
    "#read in all azurify data\n",
    "uc_az_all = pd.read_csv('UC_azurify.full.tsv', sep='\\t')\n",
    "uc_az_all = uc_az_all.rename(columns={'UC_CATEGORIZATION': 'EXT_CATEGORIZATION'})\n",
    "uc_az_all.drop(['DIAGNOSIS'], axis=1, inplace=True)\n",
    "uab_aml =  pd.read_csv('UAB.aml.azurify.tsv', sep='\\t')\n",
    "uab_aml = uc_az_all.rename(columns={'UAB_CATEGORIZATION': 'EXT_CATEGORIZATION'})\n",
    "#uab_aml.drop(['Diagnosis'], axis=1, inplace=True)\n",
    "uab_lung = pd.read_csv('UAB.lung.azurify.tsv', sep='\\t')\n",
    "uab_lung = uab_lung.rename(columns={'UAB_CATEGORIZATION': 'EXT_CATEGORIZATION'})\n",
    "uab_lung.drop(['Diagnosis'], axis=1, inplace=True)\n",
    "ext_az_all = pd.concat([uc_az_all, uab_aml, uab_lung])"
   ]
  },
  {
   "cell_type": "code",
   "execution_count": 111,
   "metadata": {},
   "outputs": [],
   "source": [
    "az = az.replace(to_replace='Likely Pathogenic', value='Pathogenic', regex=True)\n",
    "az = az.replace(to_replace='VUS', value='Non-Pathogenic', regex=True)\n",
    "az = az.replace(to_replace='Likely Benign', value='Non-Pathogenic', regex=True)\n",
    "az = az.replace(to_replace='Benign', value='Non-Pathogenic', regex=True)\n",
    "az = az.replace(to_replace='Likely Non-Pathogenic', value='Non-Pathogenic', regex=True)\n"
   ]
  },
  {
   "cell_type": "code",
   "execution_count": null,
   "metadata": {},
   "outputs": [],
   "source": [
    "m = az.merge(cv, how='left', on=['CHROM','POS', 'REF', 'ALT'])\n",
    "m.drop_duplicates()"
   ]
  },
  {
   "cell_type": "code",
   "execution_count": null,
   "metadata": {},
   "outputs": [],
   "source": [
    "confusion_matrix = pd.crosstab(m['EXT_CATEGORIZATION'], m['CancerVar'], rownames=['EXT_CATEGORIZATION'], colnames=['CancerVar']).apply(lambda r: r/r.sum(), axis=1)\n",
    "confusion_matrix.head()"
   ]
  },
  {
   "cell_type": "code",
   "execution_count": null,
   "metadata": {},
   "outputs": [],
   "source": [
    "cm2 = pd.crosstab(m['EXT_CATEGORIZATION'], m['Pathogenicity'], rownames=['Clinical Review'], colnames=['Azurify']).apply(lambda r: r/r.sum(), axis=1)\n",
    "cm2.head()"
   ]
  },
  {
   "cell_type": "code",
   "execution_count": 119,
   "metadata": {},
   "outputs": [
    {
     "data": {
      "text/html": [
       "<div>\n",
       "<style scoped>\n",
       "    .dataframe tbody tr th:only-of-type {\n",
       "        vertical-align: middle;\n",
       "    }\n",
       "\n",
       "    .dataframe tbody tr th {\n",
       "        vertical-align: top;\n",
       "    }\n",
       "\n",
       "    .dataframe thead th {\n",
       "        text-align: right;\n",
       "    }\n",
       "</style>\n",
       "<table border=\"1\" class=\"dataframe\">\n",
       "  <thead>\n",
       "    <tr style=\"text-align: right;\">\n",
       "      <th></th>\n",
       "      <th>Azurify</th>\n",
       "      <th>CancerVar</th>\n",
       "    </tr>\n",
       "    <tr>\n",
       "      <th>Category</th>\n",
       "      <th></th>\n",
       "      <th></th>\n",
       "    </tr>\n",
       "  </thead>\n",
       "  <tbody>\n",
       "    <tr>\n",
       "      <th>Pathogenic</th>\n",
       "      <td>92.92</td>\n",
       "      <td>52.40</td>\n",
       "    </tr>\n",
       "    <tr>\n",
       "      <th>Non-Pathogenic</th>\n",
       "      <td>99.55</td>\n",
       "      <td>89.62</td>\n",
       "    </tr>\n",
       "    <tr>\n",
       "      <th>N/A</th>\n",
       "      <td>0.00</td>\n",
       "      <td>30.02</td>\n",
       "    </tr>\n",
       "  </tbody>\n",
       "</table>\n",
       "</div>"
      ],
      "text/plain": [
       "                Azurify  CancerVar\n",
       "Category                          \n",
       "Pathogenic        92.92      52.40\n",
       "Non-Pathogenic    99.55      89.62\n",
       "N/A                0.00      30.02"
      ]
     },
     "execution_count": 119,
     "metadata": {},
     "output_type": "execute_result"
    }
   ],
   "source": [
    "# THIS IS THE CANCER VAR SET WITH NO Benign USING THIS FOR PUBLICATION \n",
    "\n",
    "# NA VALUE FOR CANCERVAR IS \n",
    "\n",
    "#lets manually create a dataframe with the results from eaach % concordant \n",
    "#the order is Azurify first, then cancervar. class order is -> Pathogenic (disease associated), Likely Pathogenic (Probably DA), VUS (VOUS), Benign\n",
    "data = { 'Azurify' : [92.92, 99.55, 0.0],\n",
    "        'CancerVar': [52.4, 89.62, 30.02],\n",
    "        'Category': ['Pathogenic', 'Non-Pathogenic', 'N/A']}\n",
    "az2 = pd.DataFrame(data)\n",
    "az2 = az2.set_index('Category')\n",
    "az2.head()"
   ]
  },
  {
   "cell_type": "code",
   "execution_count": 120,
   "metadata": {},
   "outputs": [],
   "source": [
    "\n",
    "plt.rcParams['pdf.fonttype'] = 42\n",
    "plt.rcParams['ps.fonttype'] = 42\n",
    "plt.rcParams['font.family'] = 'Arial'\n",
    "color_red = '#990000'  \n",
    "color_blue = '#011F5B'\n",
    "index = az2.index\n",
    "column0 = az2['Azurify']\n",
    "column1 = az2['CancerVar']\n",
    "title0 = 'Azurify'\n",
    "title1 = 'CancerVar'"
   ]
  },
  {
   "cell_type": "code",
   "execution_count": null,
   "metadata": {},
   "outputs": [],
   "source": [
    "\n",
    "fig, axes = plt.subplots(figsize=(10,5), ncols=2, sharey=True)\n",
    "fig.tight_layout()\n",
    "\n",
    "axes[0].barh(index, column0, align='center', color=color_blue, zorder=10)\n",
    "axes[0].set_title(title0, fontsize=18, pad=15, color=color_blue)\n",
    "axes[1].barh(index, column1, align='center', color=color_red, zorder=10)\n",
    "axes[1].set_title(title1, fontsize=18, pad=15, color=color_red)\n",
    "axes[0].invert_xaxis()\n",
    "axes[0].set(yticks=az2.index, yticklabels=az2.index)\n",
    "axes[0].yaxis.tick_left()\n",
    "axes[0].tick_params(axis='y', colors='white') # tick color\n",
    "\n",
    "axes[1].set_xticks([0, 20, 40, 60, 80, 100])\n",
    "\n",
    "for label in (axes[0].get_xticklabels() + axes[0].get_yticklabels()):\n",
    "    label.set(fontsize=16, color='black')\n",
    "for label in (axes[1].get_xticklabels() + axes[1].get_yticklabels()):\n",
    "    label.set(fontsize=16, color='black')\n",
    "#plt.style.use('seaborn-white')\n",
    "plt.gca().invert_yaxis()\n",
    "plt.subplots_adjust(wspace=0, top=0.85, bottom=0.1, left=0.18, right=0.95)\n",
    "plt.savefig('AZvsCV.all.pdf', dpi=600)"
   ]
  }
 ],
 "metadata": {
  "kernelspec": {
   "display_name": "Python 3 (ipykernel)",
   "language": "python",
   "name": "python3"
  },
  "language_info": {
   "codemirror_mode": {
    "name": "ipython",
    "version": 3
   },
   "file_extension": ".py",
   "mimetype": "text/x-python",
   "name": "python",
   "nbconvert_exporter": "python",
   "pygments_lexer": "ipython3",
   "version": "3.12.5"
  }
 },
 "nbformat": 4,
 "nbformat_minor": 4
}
